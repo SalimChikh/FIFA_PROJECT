{
  "nbformat": 4,
  "nbformat_minor": 0,
  "metadata": {
    "colab": {
      "name": "SALIM_FIFA.ipynb",
      "provenance": [],
      "collapsed_sections": [],
      "toc_visible": true
    },
    "kernelspec": {
      "name": "python3",
      "display_name": "Python 3"
    }
  },
  "cells": [
    {
      "cell_type": "markdown",
      "metadata": {
        "id": "RRGhv3L8qTdS",
        "colab_type": "text"
      },
      "source": [
        "**FIFA 19 DATASET**\n"
      ]
    },
    {
      "cell_type": "markdown",
      "metadata": {
        "id": "73Feo2ZirM7X",
        "colab_type": "text"
      },
      "source": [
        "# **1. Analizis de los datos**\n",
        "\n",
        "\n",
        "- Tenemos 2 dataset, uno con datos numericos y otro con categoricos. \n",
        " * El dataset numerico tiene informacion de las caracteristicas (skills) de los jugadores.\n",
        " * El dataset categorico contiene informacion personal de los jugadores. \n",
        "\n",
        " **Al analizar estos dataset y el objetivo del ejercicio, nos enteramos de que nos conviene tener unas variables del dataset de categorias con el numerico.** \n",
        "\n",
        "- Por lo cual empezamos por leer los 2 dataset y crear un 3ero con la combianación de los 2 dataset. \n",
        "- Una vez que tenemos nuestros dataset, comprobamos si nuestro dataset tiene missing values para tratarlos o no. \n",
        " * En este caso los dataset estan limpios de missing values por lo cual no hay tratamiento a hacer por este lado.\n",
        "\n"
      ]
    },
    {
      "cell_type": "markdown",
      "metadata": {
        "id": "6i8U63ge1SGd",
        "colab_type": "text"
      },
      "source": [
        "# **2. Tratamiento de los datos**\n",
        "\n",
        "- Creamos una matriz de correlation con la correlacion de pearson para poder hacer una selección de las variables continuas y entender mejor nuestros datos \n",
        "\n",
        "\n",
        "![Texte alternatif…](https://drive.google.com/uc?id=1hv3y_oq4M55hNat4B4CuXC53PQp2FwU8)\n",
        "\n",
        " Aquí, empezamos a hacer conclusiones : \n",
        "  - Tenemos algunas correlaciones negativas y otras positivas, \n",
        "\n",
        "  Una de las conclusiones que podemos hacer en este momento es que muchas variables estan correladas con otras segun la posicion del jugador y sus skills, por lo cual podrémos quedar con las variables que tienen el valor absoluto => a 80% \n",
        "\n",
        "\n"
      ]
    },
    {
      "cell_type": "markdown",
      "metadata": {
        "id": "1gz6AeTcbmLD",
        "colab_type": "text"
      },
      "source": [
        "# **3. PCA**\n",
        "- Empezamos por normalizar nuestras variables continuas para que nuestras variables tengan la misma escala. \n",
        "\n",
        "\n",
        "- Sacamos la varianza acumulada![Texte alternatif…](https://drive.google.com/uc?id=1WAPq9WbYi5Nhpti6hhiE8Q_LA_WAo6O6)\n",
        "\n",
        "- Podemos tener el 95% con 25 dimensiones por lo cual no vale la pena "
      ]
    },
    {
      "cell_type": "markdown",
      "metadata": {
        "id": "QvfAIJW-1Vaw",
        "colab_type": "text"
      },
      "source": [
        "# **4. K-mean**  \n",
        "\n",
        " - Empezamos por hacer el metodo del codo (The elbow method) para tener nuestro numero de clusters \n",
        "\n",
        "![Texte alternatif…](https://drive.google.com/uc?id=1f5kzyMb_-rXP3EyxQ7kl5h2rFK9wUrYl)\n",
        "\n",
        "\n",
        "- Lanzamos el algoritmo k-mean con numero de clusters = 4. \n",
        "\n",
        "- Creamos una nueva columna del resultado del cluster (0, 1, 2 , 3)\n",
        "\n",
        "- Comprobamos la densidad de nuestros clusters y vemos que estan bastante bien balanceados \n",
        "![Texte alternatif…](https://drive.google.com/uc?id=12GvCj3FkuwMuo8WNIyTitbKzURzqg2fP)\n",
        "\n",
        "\n",
        "\n",
        "\n",
        "\n"
      ]
    },
    {
      "cell_type": "markdown",
      "metadata": {
        "id": "15CCdUKN49pl",
        "colab_type": "text"
      },
      "source": [
        "# **5. Primera Segmentación**\n",
        "- Creamos nuestros clusters en nuestro dataset (Portero, Defensa, Mediocampista, Delantero).\n",
        "\n",
        "- Vamos a aplicar algoritmos de clasificación de arboles para comprobar nuestros clusters"
      ]
    },
    {
      "cell_type": "markdown",
      "metadata": {
        "id": "B9PWI9Tg5O_E",
        "colab_type": "text"
      },
      "source": [
        "**5.1  Split y preparación de los datos**\n",
        "- Empezamos por separar nuestros datos entre datos de entrenamiento(80%) y datos de test(20%). "
      ]
    },
    {
      "cell_type": "markdown",
      "metadata": {
        "id": "0q0OHRN_6QVA",
        "colab_type": "text"
      },
      "source": [
        "**5.2 Cross validation**\n",
        "- Definimos un cross validation con 5 muestras para entrenar nuestros algoritmos mas tarde"
      ]
    },
    {
      "cell_type": "markdown",
      "metadata": {
        "id": "beKPNEQNClKc",
        "colab_type": "text"
      },
      "source": [
        "**5.3 RandomForestClassifier**\n",
        "- Entrenamos nuestro algoritmo y nos da un resultado de : 93%"
      ]
    },
    {
      "cell_type": "markdown",
      "metadata": {
        "id": "ms3AHKhSEw5P",
        "colab_type": "text"
      },
      "source": [
        "**5.4 XGBClassifier**\n",
        "- Entrenamos nuestro algoritmo y nos da un resultado de : 95%"
      ]
    },
    {
      "cell_type": "markdown",
      "metadata": {
        "id": "T9wseo9XE7-6",
        "colab_type": "text"
      },
      "source": [
        "**5.5 DECISION TREE**\n",
        "- Entrenamos nuestro algoritmo y nos da un resultado de : 89\n"
      ]
    },
    {
      "cell_type": "markdown",
      "metadata": {
        "id": "KJL3x55U5JK0",
        "colab_type": "text"
      },
      "source": [
        "# **6. Primera conclusión**\n",
        "- El algoritmo esta acertando al 89% por lo cual nuestra clusterización tiene sentido. \n",
        "- Como el algoritmo consigue clasificar bien, vamos a ver cuales son las variables que mas importancia ha tenido en la clasificación \n",
        "\n",
        "![Texte alternatif…](https://drive.google.com/uc?id=1_In_shYxuOG-iL1xI3rqyEAqrrwkoPmv)\n",
        "\n",
        "\n",
        "\n",
        "![Texte alternatif…](https://drive.google.com/uc?id=1It9XVqBDJYl5EUNavDB5UKXOavgf50Uh)\n"
      ]
    },
    {
      "cell_type": "markdown",
      "metadata": {
        "id": "vt0uBJDjKfXd",
        "colab_type": "text"
      },
      "source": [
        "# **7. Segunda conclusión**\n",
        "\n",
        "- Nuestros clusters estan bien separados y existe una segmentación clara entre los 4 clusters"
      ]
    },
    {
      "cell_type": "markdown",
      "metadata": {
        "id": "LvA0BAGiHOb3",
        "colab_type": "text"
      },
      "source": [
        " # **8. Selección de variables**\n",
        "\n",
        "- Basandonos en los resultados del arbol de decisión y la correlación de pearson, hacemos una selección de variables para hacer una reducción de dimensionalidad y volver a probar el k-mean con estas variables y dibujamos los resultados \n",
        "\n"
      ]
    },
    {
      "cell_type": "markdown",
      "metadata": {
        "id": "SCK4U8xGJ09W",
        "colab_type": "text"
      },
      "source": [
        "# **9. Segunda Segmentación** \n"
      ]
    },
    {
      "cell_type": "markdown",
      "metadata": {
        "id": "3vLwWQEsK7KB",
        "colab_type": "text"
      },
      "source": [
        "**9.1 K-mean**\n",
        "\n",
        "- Clusterizamos otra vez a 4 **cogiendo solo las features seleccionadas(a partir de la clasificación y la correlación de pearson)**\n",
        "- Ponemos la columna de los clusters en nuesto dataset"
      ]
    },
    {
      "cell_type": "markdown",
      "metadata": {
        "id": "BGILcDzaQxJ2",
        "colab_type": "text"
      },
      "source": [
        "**9.2 Decision Tree**\n",
        "- Dibujamos nuestros clusters : \n",
        "\n",
        "![Texte alternatif…](https://drive.google.com/uc?id=1vVjiqXE2nY9ywcEwLKxse8bTSTNOEMmv)\n",
        "\n",
        "**Conclusión**\n",
        "- De aquí podemos observar de que nuestros datos se clasifican bien en 4 clusters. \n",
        "\n",
        "- Si analizamos las variables Special y Crossing podemos observar que crossing va de 25 a 75 y \n",
        "Segun estos resultados, los clusters pueden ser: el tipo de carta que tiene el jugador (Special, Gold, Silver, Bronce)\n",
        "\n",
        "\n",
        "\n",
        "- Comprobamos el algoritmo de decision tree para confirmar nuestra clasificación y nos da un resultado de : 99%\n",
        "\n",
        "![Texte alternatif…](https://drive.google.com/uc?id=1kIiYKRZbZd7trTrtpYqRkCbLDm2_WVQx)\n",
        "\n",
        "\n"
      ]
    },
    {
      "cell_type": "markdown",
      "metadata": {
        "id": "eUqxaNPARtPx",
        "colab_type": "text"
      },
      "source": [
        ""
      ]
    }
  ]
}