{
 "cells": [
  {
   "cell_type": "markdown",
   "metadata": {},
   "source": [
    "## El siguiente ejercicio propone un dataset con información de todos los jugadores del videojuego FIFA 2019. El objetivo de este ejercicio es realizar un modelo de clustering y visualizar los resultados.\n",
    "\n",
    "## Antes de empezar por favor tened en cuenta las siguientes consideraciones:\n",
    "\n",
    "- La idea principal tras este ejercicio es que se realice un pequeño proyecto de software. Por eso mismo nos gustaría recibir el resultado con una estructura de proyecto adecuada y el código estructurado siguiendo el paradigma de OOP (programación orientada a objetos). Si acostumbras a trabajar siguiendo otro paradigma de programación por favor utiliza el estilo con el que te encuentres más cómodo/a, en cualquier caso evita entregar los desarrollos en jupyter notebooks pues no es una herramienta adecuada para ello.\n",
    "\n",
    "- Como hemos indicado, la idea es que este ejercicio represente un pequeño reto de programación en forma de proyecto, por este mismo motivo, nos gustaría recibir los resultados a través de un repositorio tipo git (Github, Gitlab, etc.) que podamos clonar y ejecutar en nuestro local. Si no os fuera posible entregar el ejercicio de esta manera, por favor comprimid vuestro proyecto en formato .zip y enviadlo al email que os proporcionara el ejercicio (no incluyáis ningún resultado en la carpeta, nos gustaría ejecutar el código nosotros mismos)\n",
    "\n",
    "- **Consideramos de vital importancia que los resultados obtenidos tras el proceso de análisis se expliquen y justifiquen. Dad a este punto importancia crítica, tomaros vuestro tiempo y realizad un data story telling que permita extraer conclusiones de vuestro análisis.**\n",
    "\n",
    "- Utilizad cuadernos de jupyter únicamente para realizar explicaciones sobre los resultados que obtengáis (visualizaciones, storytelling, etc.).\n",
    "\n",
    "- Os hemos proporcionado una pequeña estructura para el proyecto con las carpetas src (incluye el código fuente del proyecto), notebooks (podéis poner vuestros cuadernos de jupyter en esta carpeta) y data (que sirve como repositorio de datos para el ejercicio). Sentíos libres de cambiarla si lo consideráis necesario.\n",
    "\n",
    "- Incluíd instrucciones detalladas para la ejecución del programa, así como una semilla para el random state en caso de que sea necesario (esto permitirá reproducir vuestros resultados con mayor facilidad) y una sugerencia para los hiperparámetros que se deban tunear. El caso ideal de ejecución debería ser un script de bash o python que genere los resultados finales que se visualizarían a través de un cuaderno de jupyter.\n",
    "\n",
    "- Tenéis todo el fin de semana para realizar la prueba, tomaos vuestro tiempo para estructurar el proyecto. Se valorará con el mismo nivel de importancia los conocimientos de software, análisis y organización del proyecto."
   ]
  },
  {
   "cell_type": "markdown",
   "metadata": {},
   "source": [
    "### Se entregan dos ficheros de datos que contienen las siguiente variables\n",
    "\n",
    "#### numeric_data.csv\n",
    "\n",
    "- ID: Identificador único de cada jugador\n",
    "- Age: Edad del jugador\n",
    "- Overall: Puntuación total del jugador\n",
    "- Potential: Puntuación del potencial del jugador\n",
    "- International Reputation: Puntuación de la reputación internacional del jugador del 1 al 5\n",
    "- Weight: Peso del jugador\n",
    "- Wage: Salario del jugador\n",
    "- El resto de variables son estadísticas del jugador, por ejemplo habilidad de tiro, pase, etc.\n",
    "\n",
    "#### categorical_data.csv\n",
    "\n",
    "- ID: Identificador único de cada jugador\n",
    "- Name: Nombre del jugador\n",
    "- Nationality: Nacionalidad del jugador\n",
    "- Club: Club al que pertenece el jugador\n",
    "- Preferred Foot: Pie preferido del jugador\n",
    "- Work Rate: Efectividad en ataque/defensa\n",
    "\n",
    "Ambas tablas se relacionan a través del ID de cada jugador"
   ]
  },
  {
   "cell_type": "markdown",
   "metadata": {},
   "source": [
    "### Utiliza las variables numéricas para realizar el clustering y las categóricas para enriquecer las conclusiones del ejercicio (en caso de que esto sea posible). Puedes utilizar cualquier técnica de clustering, reducción de dimensionalidad, selección de características... que consideres oportuna."
   ]
  },
  {
   "cell_type": "code",
   "execution_count": null,
   "metadata": {},
   "outputs": [],
   "source": []
  }
 ],
 "metadata": {
  "kernelspec": {
   "display_name": "Python 3",
   "language": "python",
   "name": "python3"
  },
  "language_info": {
   "codemirror_mode": {
    "name": "ipython",
    "version": 3
   },
   "file_extension": ".py",
   "mimetype": "text/x-python",
   "name": "python",
   "nbconvert_exporter": "python",
   "pygments_lexer": "ipython3",
   "version": "3.7.5"
  }
 },
 "nbformat": 4,
 "nbformat_minor": 4
}
